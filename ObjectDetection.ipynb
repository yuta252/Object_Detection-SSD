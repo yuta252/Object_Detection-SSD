{
 "cells": [
  {
   "cell_type": "code",
   "execution_count": 0,
   "metadata": {
    "colab": {},
    "colab_type": "code",
    "id": "mEKKb8Qty_dQ"
   },
   "outputs": [],
   "source": [
    "from google.colab import drive\n",
    "drive.mount('/content/gdrive')"
   ]
  },
  {
   "cell_type": "code",
   "execution_count": 1,
   "metadata": {
    "colab": {},
    "colab_type": "code",
    "id": "ISTm4lilv0Rs"
   },
   "outputs": [
    {
     "data": {
      "text/plain": [
       "False"
      ]
     },
     "execution_count": 1,
     "metadata": {},
     "output_type": "execute_result"
    }
   ],
   "source": [
    "import torch\n",
    "torch.cuda.is_available()"
   ]
  },
  {
   "cell_type": "code",
   "execution_count": 0,
   "metadata": {
    "colab": {},
    "colab_type": "code",
    "id": "QMApDJsXzDo7"
   },
   "outputs": [],
   "source": [
    "# 各自のパスを指定\n",
    "cd \"/content/gdrive/My Drive/ObjectDetection/\""
   ]
  },
  {
   "cell_type": "code",
   "execution_count": 2,
   "metadata": {
    "colab": {},
    "colab_type": "code",
    "id": "02ENACy7v6Vo"
   },
   "outputs": [],
   "source": [
    "import os"
   ]
  },
  {
   "cell_type": "code",
   "execution_count": 3,
   "metadata": {
    "colab": {},
    "colab_type": "code",
    "id": "-t1mZmvDwG_W",
    "scrolled": true
   },
   "outputs": [
    {
     "name": "stdout",
     "output_type": "stream",
     "text": [
      "\u001b[31mObjectDetection.ipynb\u001b[m\u001b[m \u001b[34mdata\u001b[m\u001b[m                  \u001b[34mutils\u001b[m\u001b[m\r\n",
      "\u001b[34m__pycache__\u001b[m\u001b[m           \u001b[34mlayers\u001b[m\u001b[m\r\n",
      "\u001b[34mcollect\u001b[m\u001b[m               ssd.py\r\n"
     ]
    }
   ],
   "source": [
    "!ls"
   ]
  },
  {
   "cell_type": "code",
   "execution_count": 3,
   "metadata": {
    "colab": {},
    "colab_type": "code",
    "id": "TqdU5neUwNCP"
   },
   "outputs": [],
   "source": [
    "from data import *\n",
    "from utils.augmentations import SSDAugmentation\n",
    "from layers.modules import MultiBoxLoss\n",
    "from ssd import build_ssd\n",
    "import time\n",
    "import torch\n",
    "import torch.nn as nn\n",
    "import torch.optim as optim\n",
    "import torch.backends.cudnn as cudnn\n",
    "import torch.nn.init as init\n",
    "import torch.utils.data as data\n",
    "import numpy as np"
   ]
  },
  {
   "cell_type": "code",
   "execution_count": 4,
   "metadata": {
    "colab": {},
    "colab_type": "code",
    "id": "jo-X5FkwcfAt"
   },
   "outputs": [],
   "source": [
    "batch_size = 12\n",
    "gpu = True\n",
    "lr_ = 5e-4\n",
    "weight_decay = 5e-4\n",
    "gamma_ = 0.1"
   ]
  },
  {
   "cell_type": "code",
   "execution_count": 5,
   "metadata": {
    "colab": {},
    "colab_type": "code",
    "id": "LvtqGO9nwPrm"
   },
   "outputs": [],
   "source": [
    "if torch.cuda.is_available():\n",
    "    if gpu:\n",
    "        torch.set_default_tensor_type('torch.cuda.FloatTensor')\n",
    "    if not gpu:\n",
    "        torch.set_default_tensor_type('torch.FloatTensor')\n",
    "else:\n",
    "    torch.set_default_tensor_type('torch.FloatTensor')"
   ]
  },
  {
   "cell_type": "code",
   "execution_count": 6,
   "metadata": {
    "colab": {},
    "colab_type": "code",
    "id": "gORPBF8DwSBM"
   },
   "outputs": [],
   "source": [
    "cfg = voc\n",
    "dataset = VOCDetection(root=VOC_ROOT,\n",
    "                       transform=SSDAugmentation(cfg['min_dim'],\n",
    "                                                                    MEANS))"
   ]
  },
  {
   "cell_type": "code",
   "execution_count": 7,
   "metadata": {
    "colab": {},
    "colab_type": "code",
    "id": "6NGjUxTGwUDw"
   },
   "outputs": [
    {
     "name": "stderr",
     "output_type": "stream",
     "text": [
      "/Users/nakano/python/object_detection/ssd.run/ssd.py:34: UserWarning: volatile was removed and now has no effect. Use `with torch.no_grad():` instead.\n",
      "  self.priors = Variable(self.priorbox.forward(), volatile=True)\n"
     ]
    }
   ],
   "source": [
    "ssd_net = build_ssd('train', cfg['min_dim'], cfg['num_classes'])\n",
    "device = 'cuda' if torch.cuda.is_available() else 'cpu'\n",
    "net = ssd_net.to(device)"
   ]
  },
  {
   "cell_type": "code",
   "execution_count": 8,
   "metadata": {
    "colab": {},
    "colab_type": "code",
    "id": "-3OuE588wWqP"
   },
   "outputs": [
    {
     "ename": "FileNotFoundError",
     "evalue": "[Errno 2] No such file or directory: 'weights/vgg16.pth'",
     "output_type": "error",
     "traceback": [
      "\u001b[0;31m---------------------------------------------------------------------------\u001b[0m",
      "\u001b[0;31mFileNotFoundError\u001b[0m                         Traceback (most recent call last)",
      "\u001b[0;32m<ipython-input-8-3aecc6a4a1ad>\u001b[0m in \u001b[0;36m<module>\u001b[0;34m\u001b[0m\n\u001b[0;32m----> 1\u001b[0;31m \u001b[0mvgg_weights\u001b[0m \u001b[0;34m=\u001b[0m \u001b[0mtorch\u001b[0m\u001b[0;34m.\u001b[0m\u001b[0mload\u001b[0m\u001b[0;34m(\u001b[0m\u001b[0;34m'weights/vgg16.pth'\u001b[0m\u001b[0;34m)\u001b[0m\u001b[0;34m\u001b[0m\u001b[0;34m\u001b[0m\u001b[0m\n\u001b[0m\u001b[1;32m      2\u001b[0m \u001b[0mssd_net\u001b[0m\u001b[0;34m.\u001b[0m\u001b[0mvgg\u001b[0m\u001b[0;34m.\u001b[0m\u001b[0mload_state_dict\u001b[0m\u001b[0;34m(\u001b[0m\u001b[0mvgg_weights\u001b[0m\u001b[0;34m)\u001b[0m\u001b[0;34m\u001b[0m\u001b[0;34m\u001b[0m\u001b[0m\n",
      "\u001b[0;32m~/anaconda3/lib/python3.6/site-packages/torch/serialization.py\u001b[0m in \u001b[0;36mload\u001b[0;34m(f, map_location, pickle_module)\u001b[0m\n\u001b[1;32m    354\u001b[0m             \u001b[0;34m(\u001b[0m\u001b[0msys\u001b[0m\u001b[0;34m.\u001b[0m\u001b[0mversion_info\u001b[0m\u001b[0;34m[\u001b[0m\u001b[0;36m0\u001b[0m\u001b[0;34m]\u001b[0m \u001b[0;34m==\u001b[0m \u001b[0;36m3\u001b[0m \u001b[0;32mand\u001b[0m \u001b[0misinstance\u001b[0m\u001b[0;34m(\u001b[0m\u001b[0mf\u001b[0m\u001b[0;34m,\u001b[0m \u001b[0mpathlib\u001b[0m\u001b[0;34m.\u001b[0m\u001b[0mPath\u001b[0m\u001b[0;34m)\u001b[0m\u001b[0;34m)\u001b[0m\u001b[0;34m:\u001b[0m\u001b[0;34m\u001b[0m\u001b[0;34m\u001b[0m\u001b[0m\n\u001b[1;32m    355\u001b[0m         \u001b[0mnew_fd\u001b[0m \u001b[0;34m=\u001b[0m \u001b[0;32mTrue\u001b[0m\u001b[0;34m\u001b[0m\u001b[0;34m\u001b[0m\u001b[0m\n\u001b[0;32m--> 356\u001b[0;31m         \u001b[0mf\u001b[0m \u001b[0;34m=\u001b[0m \u001b[0mopen\u001b[0m\u001b[0;34m(\u001b[0m\u001b[0mf\u001b[0m\u001b[0;34m,\u001b[0m \u001b[0;34m'rb'\u001b[0m\u001b[0;34m)\u001b[0m\u001b[0;34m\u001b[0m\u001b[0;34m\u001b[0m\u001b[0m\n\u001b[0m\u001b[1;32m    357\u001b[0m     \u001b[0;32mtry\u001b[0m\u001b[0;34m:\u001b[0m\u001b[0;34m\u001b[0m\u001b[0;34m\u001b[0m\u001b[0m\n\u001b[1;32m    358\u001b[0m         \u001b[0;32mreturn\u001b[0m \u001b[0m_load\u001b[0m\u001b[0;34m(\u001b[0m\u001b[0mf\u001b[0m\u001b[0;34m,\u001b[0m \u001b[0mmap_location\u001b[0m\u001b[0;34m,\u001b[0m \u001b[0mpickle_module\u001b[0m\u001b[0;34m)\u001b[0m\u001b[0;34m\u001b[0m\u001b[0;34m\u001b[0m\u001b[0m\n",
      "\u001b[0;31mFileNotFoundError\u001b[0m: [Errno 2] No such file or directory: 'weights/vgg16.pth'"
     ]
    }
   ],
   "source": [
    "vgg_weights = torch.load('weights/vgg16.pth')\n",
    "ssd_net.vgg.load_state_dict(vgg_weights)"
   ]
  },
  {
   "cell_type": "code",
   "execution_count": 0,
   "metadata": {
    "colab": {},
    "colab_type": "code",
    "id": "qUhV7zq4wY68"
   },
   "outputs": [],
   "source": [
    "print(net)"
   ]
  },
  {
   "cell_type": "code",
   "execution_count": 0,
   "metadata": {
    "colab": {},
    "colab_type": "code",
    "id": "9vHOEisHwa1M"
   },
   "outputs": [],
   "source": [
    "if gpu:\n",
    "    net = torch.nn.DataParallel(ssd_net)\n",
    "    cudnn.benchmark = True"
   ]
  },
  {
   "cell_type": "code",
   "execution_count": 0,
   "metadata": {
    "colab": {},
    "colab_type": "code",
    "id": "fth9oK8pwd0o"
   },
   "outputs": [],
   "source": [
    "def adjust_learning_rate(optimizer, gamma, step):\n",
    "    lr = lr_ * (gamma ** (step))\n",
    "    for param_group in optimizer.param_groups:\n",
    "        param_group['lr'] = lr\n",
    "\n",
    "def xavier(param):\n",
    "    init.xavier_uniform_(param)\n",
    "\n",
    "def weights_init(m):\n",
    "    if isinstance(m, nn.Conv2d):\n",
    "        xavier(m.weight.data)\n",
    "        m.bias.data.zero_()"
   ]
  },
  {
   "cell_type": "code",
   "execution_count": 0,
   "metadata": {
    "colab": {},
    "colab_type": "code",
    "id": "MWrNhZi_wfyU"
   },
   "outputs": [],
   "source": [
    "# 新規モデル学習時は追加ネットワークの畳み込み、\n",
    "# 位置推定、クラス分類の畳み込みパラメータを初期化する\n",
    "ssd_net.extras.apply(weights_init)\n",
    "ssd_net.loc.apply(weights_init)\n",
    "ssd_net.conf.apply(weights_init)"
   ]
  },
  {
   "cell_type": "code",
   "execution_count": 0,
   "metadata": {
    "colab": {},
    "colab_type": "code",
    "id": "xSyQmhynwhi1"
   },
   "outputs": [],
   "source": [
    "# 損失関数の設定\n",
    "criterion = MultiBoxLoss(cfg['num_classes'], 0.5, True, 0, True, 3, 0.5,\n",
    "                                     False, gpu)"
   ]
  },
  {
   "cell_type": "code",
   "execution_count": 0,
   "metadata": {
    "colab": {},
    "colab_type": "code",
    "id": "VdCF80OjwjL7"
   },
   "outputs": [],
   "source": [
    "# 最適化パラメータの設定\n",
    "optimizer = optim.SGD(net.parameters(), lr=lr_, momentum=0.9,\n",
    "                      weight_decay=weight_decay)"
   ]
  },
  {
   "cell_type": "code",
   "execution_count": 0,
   "metadata": {
    "colab": {},
    "colab_type": "code",
    "id": "bTAOtWMAwlHy"
   },
   "outputs": [],
   "source": [
    "# 訓練モード\n",
    "net.train()\n",
    "loc_loss = 0\n",
    "conf_loss = 0\n",
    "epoch = 0\n",
    "\n",
    "epoch_size = len(dataset) // batch_size\n",
    "print('dataset_size', len(dataset))\n",
    "print('epoch_size', epoch_size)\n",
    "print('Training SSD on:', dataset.name)\n",
    "\n",
    "step_index = 0"
   ]
  },
  {
   "cell_type": "code",
   "execution_count": 0,
   "metadata": {
    "colab": {},
    "colab_type": "code",
    "id": "F9o-Ngcowm8j"
   },
   "outputs": [],
   "source": [
    "# 訓練データのデータローダ作成\n",
    "data_loader = data.DataLoader(dataset, batch_size,\n",
    "                              num_workers=4,\n",
    "                              shuffle=True, \n",
    "                              collate_fn=detection_collate,\n",
    "                              pin_memory=True)"
   ]
  },
  {
   "cell_type": "code",
   "execution_count": 0,
   "metadata": {
    "colab": {},
    "colab_type": "code",
    "id": "QfxL5w9Vwovn"
   },
   "outputs": [],
   "source": [
    "# 学習の開始\n",
    "batch_iterator = None\n",
    "# iterationでループして、cfg['max_iter']まで学習する\n",
    "for iteration in range(0, 1000):\n",
    "    # 学習開始時または1epoch終了後にdata_loaderから訓練データをロードする\n",
    "    if (not batch_iterator) or (iteration % epoch_size ==0):\n",
    "        batch_iterator = iter(data_loader)\n",
    "        loc_loss = 0\n",
    "        conf_loss = 0\n",
    "        epoch += 1\n",
    "\n",
    "    if iteration in cfg['lr_steps']:\n",
    "        step_index += 1\n",
    "        adjust_learning_rate(optimizer, gamma_, step_index)\n",
    "        \n",
    "    # load train data\n",
    "    # バッチサイズ分の訓練データをload\n",
    "    images, targets = next(batch_iterator)\n",
    "    \n",
    "    # 画像をGPUに転送\n",
    "    images = images.to(device)\n",
    "    # アノテーションをGPUに転送    \n",
    "    targets = [ann.to(device) for ann in targets]\n",
    "\n",
    "    # forward\n",
    "    t0 = time.time()\n",
    "    # 順伝播の計算\n",
    "    out = net(images)\n",
    "    # 勾配の初期化\n",
    "    optimizer.zero_grad()\n",
    "    # 損失関数の計算\n",
    "    loss_l, loss_c = criterion(out, targets)\n",
    "    loss = loss_l + loss_c\n",
    "    # 勾配の計算\n",
    "    loss.backward()\n",
    "    # パラメータの更新\n",
    "    optimizer.step()\n",
    "    t1 = time.time()\n",
    "    # 損失関数の更新\n",
    "    loc_loss += loss_l.item()\n",
    "    conf_loss += loss_c.item()\n",
    "    \n",
    "    #ログの出力\n",
    "    if iteration % 10 == 0:\n",
    "        print('timer: %.4f sec.' % (t1 - t0))\n",
    "        print('iter ' + repr(iteration) + ' || Loss: %.4f ||' % (loss.item()), end=' ')\n",
    "\n",
    "# 学習済みモデルの保存\n",
    "torch.save(ssd_net.state_dict(),\n",
    "                'weights/ssd.pth')"
   ]
  },
  {
   "cell_type": "code",
   "execution_count": 0,
   "metadata": {
    "colab": {},
    "colab_type": "code",
    "id": "NwyGN7D_d3po"
   },
   "outputs": [],
   "source": [
    "!wget https://s3.amazonaws.com/amdegroot-models/ssd300_mAP_77.43_v2.pth"
   ]
  },
  {
   "cell_type": "code",
   "execution_count": 0,
   "metadata": {
    "colab": {},
    "colab_type": "code",
    "id": "wQ_N4p3e85H9"
   },
   "outputs": [],
   "source": [
    "ssd_net_test = build_ssd('test', cfg['min_dim'], cfg['num_classes'])\n",
    "net_test = ssd_net_test.to(device)\n",
    "net_test.load_weights('ssd300_mAP_77.43_v2.pth')\n",
    "#net_test.load_weights('weights/ssd.pth')"
   ]
  },
  {
   "cell_type": "code",
   "execution_count": 0,
   "metadata": {
    "colab": {},
    "colab_type": "code",
    "id": "duMGes4kBRKk"
   },
   "outputs": [],
   "source": [
    "%matplotlib inline\n",
    "from matplotlib import pyplot as plt\n",
    "\n",
    "from data import VOCDetection, VOC_ROOT, VOCAnnotationTransform\n",
    "# here we specify year (07 or 12) and dataset ('test', 'val', 'train') \n",
    "testset = VOCDetection(VOC_ROOT, [('2007', 'test')], None, VOCAnnotationTransform())\n",
    "# クラスVOCDetectionはindexをキーに画像を取得する\n",
    "img_id = 2586\n",
    "image = testset.pull_image(img_id)\n",
    "\n",
    "# cv2のチャンネルの順番はBGR（青、緑、赤）なので、RGB（赤、緑、青）に入れ替える\n",
    "rgb_image = cv2.cvtColor(image, cv2.COLOR_BGR2RGB)\n",
    "# View the sampled input image before transform\n",
    "plt.figure(figsize=(10,10))\n",
    "plt.imshow(rgb_image)\n",
    "plt.axis('off')\n",
    "plt.show()"
   ]
  },
  {
   "cell_type": "code",
   "execution_count": 0,
   "metadata": {
    "colab": {},
    "colab_type": "code",
    "id": "0fFy_NQvBUHD"
   },
   "outputs": [],
   "source": [
    "# 画像のサイズを300×300に変更\n",
    "x = cv2.resize(image, (300, 300)).astype(np.float32)\n",
    "# 平均のRGBを引く\n",
    "x -= (104.0, 117.0, 123.0)\n",
    "x = x.astype(np.float32)\n",
    "# cv2のチャンネルの順番はBGR（青、緑、赤）なので、RGB（赤、緑、青）に入れ替える\n",
    "x = x[:, :, ::-1].copy()\n",
    "plt.axis('off')\n",
    "plt.imshow(x)\n",
    "# HWCの形状[300, 300, 3]をCHWの形状[3, 300,300]に変更\n",
    "x = torch.from_numpy(x).permute(2, 0, 1)"
   ]
  },
  {
   "cell_type": "code",
   "execution_count": 0,
   "metadata": {
    "colab": {},
    "colab_type": "code",
    "id": "CobKMwM2BXFV"
   },
   "outputs": [],
   "source": [
    "# 0次元目にバッチサイズの次元を追加\n",
    "# [3, 300, 300]　→　[1, 3, 300, 300] \n",
    "xx = x.unsqueeze(0)\n",
    "# GPUへの転送\n",
    "xx = xx.to(device)\n",
    "# dropoutを実行しない\n",
    "net_test.eval()\n",
    "# 計算グラフを作成しない\n",
    "with torch.no_grad():\n",
    "  # 順伝播を実行し、推論結果を出力\n",
    "  y = net_test(xx)"
   ]
  },
  {
   "cell_type": "code",
   "execution_count": 0,
   "metadata": {
    "colab": {},
    "colab_type": "code",
    "id": "-_k28EXNBc7W"
   },
   "outputs": [],
   "source": [
    "from data import VOC_CLASSES as labels\n",
    "top_k=10\n",
    "\n",
    "plt.figure(figsize=(10,10))\n",
    "colors = plt.cm.hsv(np.linspace(0, 1, 21)).tolist()\n",
    "plt.axis('off')\n",
    "plt.imshow(rgb_image)  # plot the image for matplotlib\n",
    "currentAxis = plt.gca()\n",
    "# 推論結果をdetectionsに格納\n",
    "detections = y.data\n",
    "# scale each detection back up to the image\n",
    "scale = torch.Tensor(rgb_image.shape[1::-1]).repeat(2)\n",
    "# クラスiでループ\n",
    "for i in range(detections.size(1)):\n",
    "    j = 0\n",
    "# 確信度confが0.6以上のボックスを表示\n",
    "# jは確信度上位200件のボックスのインデックス\n",
    "# detections[0,i,j]は[conf,xmin,ymin,xmax,ymax]の形状\n",
    "    while detections[0,i,j,0] >= 0.6:\n",
    "        score = detections[0,i,j,0]\n",
    "        label_name = labels[i-1]\n",
    "        display_txt = '%s: %.2f'%(label_name, score)\n",
    "        pt = (detections[0,i,j,1:]*scale).cpu().numpy()\n",
    "        coords = (pt[0], pt[1]), pt[2]-pt[0]+1, pt[3]-pt[1]+1\n",
    "        color = colors[i]\n",
    "        currentAxis.add_patch(plt.Rectangle(*coords, fill=False, \n",
    "                                          edgecolor=color, linewidth=2))\n",
    "        currentAxis.text(pt[0], pt[1], display_txt, bbox={'facecolor':color, 'alpha':0.5})\n",
    "        j+=1"
   ]
  }
 ],
 "metadata": {
  "accelerator": "GPU",
  "colab": {
   "collapsed_sections": [],
   "name": "ObjectDetection_custom.ipynb",
   "provenance": [],
   "version": "0.3.2"
  },
  "kernelspec": {
   "display_name": "Python 3",
   "language": "python",
   "name": "python3"
  },
  "language_info": {
   "codemirror_mode": {
    "name": "ipython",
    "version": 3
   },
   "file_extension": ".py",
   "mimetype": "text/x-python",
   "name": "python",
   "nbconvert_exporter": "python",
   "pygments_lexer": "ipython3",
   "version": "3.6.8"
  }
 },
 "nbformat": 4,
 "nbformat_minor": 1
}
